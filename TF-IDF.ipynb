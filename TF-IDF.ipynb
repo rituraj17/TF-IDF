{
 "cells": [
  {
   "cell_type": "markdown",
   "metadata": {},
   "source": [
    "# TF-IDF practical code"
   ]
  },
  {
   "cell_type": "markdown",
   "metadata": {},
   "source": [
    "#### Take two statements"
   ]
  },
  {
   "cell_type": "code",
   "execution_count": 175,
   "metadata": {},
   "outputs": [],
   "source": [
    "s1=\"The car is driven on the road\"\n",
    "s2=\"The truck is driven on the highway\""
   ]
  },
  {
   "cell_type": "code",
   "execution_count": 176,
   "metadata": {},
   "outputs": [],
   "source": [
    "## split it in to list\n",
    "a=s1.split()\n",
    "b=s2.split()"
   ]
  },
  {
   "cell_type": "code",
   "execution_count": 177,
   "metadata": {},
   "outputs": [
    {
     "name": "stdout",
     "output_type": "stream",
     "text": [
      "a=['The', 'car', 'is', 'driven', 'on', 'the', 'road']\n",
      "b=['The', 'truck', 'is', 'driven', 'on', 'the', 'highway']\n"
     ]
    }
   ],
   "source": [
    "print(\"a={}\".format(a))\n",
    "print(\"b={}\".format(b))"
   ]
  },
  {
   "cell_type": "markdown",
   "metadata": {},
   "source": [
    "### union of two list "
   ]
  },
  {
   "cell_type": "code",
   "execution_count": 178,
   "metadata": {},
   "outputs": [],
   "source": [
    "## to make a single list with unique values\n",
    "wordset=set(a).union(set(b))"
   ]
  },
  {
   "cell_type": "code",
   "execution_count": 179,
   "metadata": {},
   "outputs": [
    {
     "data": {
      "text/plain": [
       "{'The', 'car', 'driven', 'highway', 'is', 'on', 'road', 'the', 'truck'}"
      ]
     },
     "execution_count": 179,
     "metadata": {},
     "output_type": "execute_result"
    }
   ],
   "source": [
    "wordset"
   ]
  },
  {
   "cell_type": "markdown",
   "metadata": {},
   "source": [
    "### To create a dictionary of the list"
   ]
  },
  {
   "cell_type": "code",
   "execution_count": 180,
   "metadata": {},
   "outputs": [],
   "source": [
    "wordDictA=dict.fromkeys(wordset,0)\n",
    "wordDictB=dict.fromkeys(wordset,0)"
   ]
  },
  {
   "cell_type": "code",
   "execution_count": 181,
   "metadata": {},
   "outputs": [
    {
     "name": "stdout",
     "output_type": "stream",
     "text": [
      "wordDictA={'is': 0, 'car': 0, 'road': 0, 'on': 0, 'truck': 0, 'the': 0, 'The': 0, 'driven': 0, 'highway': 0}\n",
      "wordDictB={'is': 0, 'car': 0, 'road': 0, 'on': 0, 'truck': 0, 'the': 0, 'The': 0, 'driven': 0, 'highway': 0}\n"
     ]
    }
   ],
   "source": [
    "print(\"wordDictA={}\".format(wordDictA))\n",
    "print(\"wordDictB={}\".format(wordDictB))"
   ]
  },
  {
   "cell_type": "markdown",
   "metadata": {},
   "source": [
    "### Count of each word in a list "
   ]
  },
  {
   "cell_type": "code",
   "execution_count": 182,
   "metadata": {},
   "outputs": [],
   "source": [
    "for word in a:\n",
    "    wordDictA[word]+=1"
   ]
  },
  {
   "cell_type": "code",
   "execution_count": 183,
   "metadata": {},
   "outputs": [
    {
     "data": {
      "text/plain": [
       "{'is': 1,\n",
       " 'car': 1,\n",
       " 'road': 1,\n",
       " 'on': 1,\n",
       " 'truck': 0,\n",
       " 'the': 1,\n",
       " 'The': 1,\n",
       " 'driven': 1,\n",
       " 'highway': 0}"
      ]
     },
     "execution_count": 183,
     "metadata": {},
     "output_type": "execute_result"
    }
   ],
   "source": [
    "wordDictA"
   ]
  },
  {
   "cell_type": "code",
   "execution_count": 184,
   "metadata": {},
   "outputs": [],
   "source": [
    "for word in b:\n",
    "    wordDictB[word]+=1"
   ]
  },
  {
   "cell_type": "code",
   "execution_count": 185,
   "metadata": {},
   "outputs": [
    {
     "data": {
      "text/plain": [
       "{'is': 1,\n",
       " 'car': 0,\n",
       " 'road': 0,\n",
       " 'on': 1,\n",
       " 'truck': 1,\n",
       " 'the': 1,\n",
       " 'The': 1,\n",
       " 'driven': 1,\n",
       " 'highway': 1}"
      ]
     },
     "execution_count": 185,
     "metadata": {},
     "output_type": "execute_result"
    }
   ],
   "source": [
    "wordDictB"
   ]
  },
  {
   "cell_type": "markdown",
   "metadata": {},
   "source": [
    "### To pass it into dataframe"
   ]
  },
  {
   "cell_type": "code",
   "execution_count": 186,
   "metadata": {},
   "outputs": [
    {
     "data": {
      "text/html": [
       "<div>\n",
       "<style scoped>\n",
       "    .dataframe tbody tr th:only-of-type {\n",
       "        vertical-align: middle;\n",
       "    }\n",
       "\n",
       "    .dataframe tbody tr th {\n",
       "        vertical-align: top;\n",
       "    }\n",
       "\n",
       "    .dataframe thead th {\n",
       "        text-align: right;\n",
       "    }\n",
       "</style>\n",
       "<table border=\"1\" class=\"dataframe\">\n",
       "  <thead>\n",
       "    <tr style=\"text-align: right;\">\n",
       "      <th></th>\n",
       "      <th>The</th>\n",
       "      <th>car</th>\n",
       "      <th>driven</th>\n",
       "      <th>highway</th>\n",
       "      <th>is</th>\n",
       "      <th>on</th>\n",
       "      <th>road</th>\n",
       "      <th>the</th>\n",
       "      <th>truck</th>\n",
       "    </tr>\n",
       "  </thead>\n",
       "  <tbody>\n",
       "    <tr>\n",
       "      <th>0</th>\n",
       "      <td>1</td>\n",
       "      <td>1</td>\n",
       "      <td>1</td>\n",
       "      <td>0</td>\n",
       "      <td>1</td>\n",
       "      <td>1</td>\n",
       "      <td>1</td>\n",
       "      <td>1</td>\n",
       "      <td>0</td>\n",
       "    </tr>\n",
       "    <tr>\n",
       "      <th>1</th>\n",
       "      <td>1</td>\n",
       "      <td>0</td>\n",
       "      <td>1</td>\n",
       "      <td>1</td>\n",
       "      <td>1</td>\n",
       "      <td>1</td>\n",
       "      <td>0</td>\n",
       "      <td>1</td>\n",
       "      <td>1</td>\n",
       "    </tr>\n",
       "  </tbody>\n",
       "</table>\n",
       "</div>"
      ],
      "text/plain": [
       "   The  car  driven  highway  is  on  road  the  truck\n",
       "0    1    1       1        0   1   1     1    1      0\n",
       "1    1    0       1        1   1   1     0    1      1"
      ]
     },
     "execution_count": 186,
     "metadata": {},
     "output_type": "execute_result"
    }
   ],
   "source": [
    "import pandas as pd\n",
    "df=pd.DataFrame([wordDictA,wordDictB])\n",
    "df"
   ]
  },
  {
   "cell_type": "code",
   "execution_count": 187,
   "metadata": {},
   "outputs": [
    {
     "data": {
      "text/plain": [
       "dict_items([('is', 1), ('car', 0), ('road', 0), ('on', 1), ('truck', 1), ('the', 1), ('The', 1), ('driven', 1), ('highway', 1)])"
      ]
     },
     "execution_count": 187,
     "metadata": {},
     "output_type": "execute_result"
    }
   ],
   "source": [
    "## to check dict items\n",
    "wordDictB.items()"
   ]
  },
  {
   "cell_type": "markdown",
   "metadata": {},
   "source": [
    "### Create a function for TF "
   ]
  },
  {
   "cell_type": "code",
   "execution_count": 188,
   "metadata": {},
   "outputs": [],
   "source": [
    "def computeTF(wordDict,bow):## wordDict = universal set ,bow =split sentances\n",
    "    tfdict={}\n",
    "    bowcount=len(bow)\n",
    "    for word,count in wordDict.items():\n",
    "        tfdict[word]=count/float(bowcount)\n",
    "    return tfdict"
   ]
  },
  {
   "cell_type": "code",
   "execution_count": 189,
   "metadata": {},
   "outputs": [],
   "source": [
    "tfdictA=computeTF(wordDictA,a)\n",
    "tfdictB=computeTF(wordDictB,b)"
   ]
  },
  {
   "cell_type": "code",
   "execution_count": 190,
   "metadata": {},
   "outputs": [
    {
     "name": "stdout",
     "output_type": "stream",
     "text": [
      "tfdictA={'is': 0.14285714285714285, 'car': 0.14285714285714285, 'road': 0.14285714285714285, 'on': 0.14285714285714285, 'truck': 0.0, 'the': 0.14285714285714285, 'The': 0.14285714285714285, 'driven': 0.14285714285714285, 'highway': 0.0}\n",
      "\n",
      "\n",
      "tfdictB={'is': 0.14285714285714285, 'car': 0.0, 'road': 0.0, 'on': 0.14285714285714285, 'truck': 0.14285714285714285, 'the': 0.14285714285714285, 'The': 0.14285714285714285, 'driven': 0.14285714285714285, 'highway': 0.14285714285714285}\n"
     ]
    }
   ],
   "source": [
    "print(\"tfdictA={}\".format(tfdictA))\n",
    "print(\"\\n\")\n",
    "print(\"tfdictB={}\".format(tfdictB))\n",
    "      "
   ]
  },
  {
   "cell_type": "markdown",
   "metadata": {},
   "source": [
    "### Define a IDF function"
   ]
  },
  {
   "cell_type": "code",
   "execution_count": 191,
   "metadata": {},
   "outputs": [],
   "source": [
    "def computeIDF(docList):\n",
    "    tfidf={}\n",
    "    N=len(docList)\n",
    "    tfidf=dict.fromkeys(docList[0].keys(),0)\n",
    "    for doc in docList:\n",
    "        for word,val in doc.items():\n",
    "            if val > 0:\n",
    "                tfidf[word]+=1\n",
    "    for word,val in tfidf.items():\n",
    "        tfidf[word]=math.log10(N/float(val))\n",
    "    return tfidf"
   ]
  },
  {
   "cell_type": "code",
   "execution_count": 192,
   "metadata": {},
   "outputs": [],
   "source": [
    "idfs = computeIDF([wordDictA, wordDictB])"
   ]
  },
  {
   "cell_type": "code",
   "execution_count": 193,
   "metadata": {},
   "outputs": [
    {
     "data": {
      "text/plain": [
       "{'is': 0.0,\n",
       " 'car': 0.3010299956639812,\n",
       " 'road': 0.3010299956639812,\n",
       " 'on': 0.0,\n",
       " 'truck': 0.3010299956639812,\n",
       " 'the': 0.0,\n",
       " 'The': 0.0,\n",
       " 'driven': 0.0,\n",
       " 'highway': 0.3010299956639812}"
      ]
     },
     "execution_count": 193,
     "metadata": {},
     "output_type": "execute_result"
    }
   ],
   "source": [
    "idfs"
   ]
  },
  {
   "cell_type": "markdown",
   "metadata": {},
   "source": [
    "### Define TFIDF function"
   ]
  },
  {
   "cell_type": "code",
   "execution_count": 194,
   "metadata": {},
   "outputs": [],
   "source": [
    "def computeTFIDF(tfbow,idfs):\n",
    "    tfidf={}\n",
    "    for word,val in tfbow.items():\n",
    "        tfidf[word]=val*idfs[word]\n",
    "    return tfidf"
   ]
  },
  {
   "cell_type": "code",
   "execution_count": 195,
   "metadata": {},
   "outputs": [],
   "source": [
    "tfidfA=computeTFIDF(tfdictA,idfs)\n",
    "tfidfB=computeTFIDF(tfdictB,idfs)"
   ]
  },
  {
   "cell_type": "code",
   "execution_count": 196,
   "metadata": {},
   "outputs": [
    {
     "data": {
      "text/html": [
       "<div>\n",
       "<style scoped>\n",
       "    .dataframe tbody tr th:only-of-type {\n",
       "        vertical-align: middle;\n",
       "    }\n",
       "\n",
       "    .dataframe tbody tr th {\n",
       "        vertical-align: top;\n",
       "    }\n",
       "\n",
       "    .dataframe thead th {\n",
       "        text-align: right;\n",
       "    }\n",
       "</style>\n",
       "<table border=\"1\" class=\"dataframe\">\n",
       "  <thead>\n",
       "    <tr style=\"text-align: right;\">\n",
       "      <th></th>\n",
       "      <th>The</th>\n",
       "      <th>car</th>\n",
       "      <th>driven</th>\n",
       "      <th>highway</th>\n",
       "      <th>is</th>\n",
       "      <th>on</th>\n",
       "      <th>road</th>\n",
       "      <th>the</th>\n",
       "      <th>truck</th>\n",
       "    </tr>\n",
       "  </thead>\n",
       "  <tbody>\n",
       "    <tr>\n",
       "      <th>0</th>\n",
       "      <td>0.0</td>\n",
       "      <td>0.043004</td>\n",
       "      <td>0.0</td>\n",
       "      <td>0.000000</td>\n",
       "      <td>0.0</td>\n",
       "      <td>0.0</td>\n",
       "      <td>0.043004</td>\n",
       "      <td>0.0</td>\n",
       "      <td>0.000000</td>\n",
       "    </tr>\n",
       "    <tr>\n",
       "      <th>1</th>\n",
       "      <td>0.0</td>\n",
       "      <td>0.000000</td>\n",
       "      <td>0.0</td>\n",
       "      <td>0.043004</td>\n",
       "      <td>0.0</td>\n",
       "      <td>0.0</td>\n",
       "      <td>0.000000</td>\n",
       "      <td>0.0</td>\n",
       "      <td>0.043004</td>\n",
       "    </tr>\n",
       "  </tbody>\n",
       "</table>\n",
       "</div>"
      ],
      "text/plain": [
       "   The       car  driven   highway   is   on      road  the     truck\n",
       "0  0.0  0.043004     0.0  0.000000  0.0  0.0  0.043004  0.0  0.000000\n",
       "1  0.0  0.000000     0.0  0.043004  0.0  0.0  0.000000  0.0  0.043004"
      ]
     },
     "execution_count": 196,
     "metadata": {},
     "output_type": "execute_result"
    }
   ],
   "source": [
    "pd.DataFrame([tfidfA,tfidfB])"
   ]
  }
 ],
 "metadata": {
  "kernelspec": {
   "display_name": "Python 3",
   "language": "python",
   "name": "python3"
  },
  "language_info": {
   "codemirror_mode": {
    "name": "ipython",
    "version": 3
   },
   "file_extension": ".py",
   "mimetype": "text/x-python",
   "name": "python",
   "nbconvert_exporter": "python",
   "pygments_lexer": "ipython3",
   "version": "3.6.5"
  }
 },
 "nbformat": 4,
 "nbformat_minor": 2
}
